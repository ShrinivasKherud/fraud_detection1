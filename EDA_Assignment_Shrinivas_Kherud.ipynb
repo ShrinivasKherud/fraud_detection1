{
  "nbformat": 4,
  "nbformat_minor": 0,
  "metadata": {
    "colab": {
      "provenance": [],
      "authorship_tag": "ABX9TyPc2vSyLVSHFy42O4nrv81I",
      "include_colab_link": true
    },
    "kernelspec": {
      "name": "python3",
      "display_name": "Python 3"
    },
    "language_info": {
      "name": "python"
    }
  },
  "cells": [
    {
      "cell_type": "markdown",
      "metadata": {
        "id": "view-in-github",
        "colab_type": "text"
      },
      "source": [
        "<a href=\"https://colab.research.google.com/github/ShrinivasKherud/fraud_detection1/blob/main/EDA_Assignment_Shrinivas_Kherud.ipynb\" target=\"_parent\"><img src=\"https://colab.research.google.com/assets/colab-badge.svg\" alt=\"Open In Colab\"/></a>"
      ]
    },
    {
      "cell_type": "markdown",
      "source": [
        "Importing libraries\n"
      ],
      "metadata": {
        "id": "h8FudtFPDN-D"
      }
    },
    {
      "cell_type": "code",
      "source": [
        "import numpy as np\n",
        "import pandas as pd\n",
        "import matplotlib.pyplot as plt\n",
        "import seaborn as sns"
      ],
      "metadata": {
        "id": "agXkx615DNj9"
      },
      "execution_count": 2,
      "outputs": []
    },
    {
      "cell_type": "code",
      "source": [
        "pd.set_option('display.max_columns',None)\n",
        "pd.set_option('display.max_rows', None)"
      ],
      "metadata": {
        "id": "sLf2MqDzMzpl"
      },
      "execution_count": 8,
      "outputs": []
    },
    {
      "cell_type": "markdown",
      "source": [
        "Importing the csv files"
      ],
      "metadata": {
        "id": "2EMdgyiPDFog"
      }
    },
    {
      "cell_type": "code",
      "execution_count": 3,
      "metadata": {
        "id": "jiogMzsmi8Ef",
        "colab": {
          "base_uri": "https://localhost:8080/",
          "height": 300
        },
        "outputId": "9edbba43-bb51-4faa-f98f-fbcae303c4e2"
      },
      "outputs": [
        {
          "output_type": "execute_result",
          "data": {
            "text/plain": [
              "   SK_ID_CURR  TARGET NAME_CONTRACT_TYPE CODE_GENDER FLAG_OWN_CAR  \\\n",
              "0      100002       1         Cash loans           M            N   \n",
              "1      100003       0         Cash loans           F            N   \n",
              "2      100004       0    Revolving loans           M            Y   \n",
              "3      100006       0         Cash loans           F            N   \n",
              "4      100007       0         Cash loans           M            N   \n",
              "\n",
              "  FLAG_OWN_REALTY  CNT_CHILDREN  AMT_INCOME_TOTAL  AMT_CREDIT  AMT_ANNUITY  \\\n",
              "0               Y           0.0          202500.0    406597.5      24700.5   \n",
              "1               N           0.0          270000.0   1293502.5      35698.5   \n",
              "2               Y           0.0           67500.0    135000.0       6750.0   \n",
              "3               Y           0.0          135000.0    312682.5      29686.5   \n",
              "4               Y           0.0          121500.0    513000.0      21865.5   \n",
              "\n",
              "   ...  FLAG_DOCUMENT_18 FLAG_DOCUMENT_19 FLAG_DOCUMENT_20 FLAG_DOCUMENT_21  \\\n",
              "0  ...               0.0              0.0              0.0              0.0   \n",
              "1  ...               0.0              0.0              0.0              0.0   \n",
              "2  ...               0.0              0.0              0.0              0.0   \n",
              "3  ...               0.0              0.0              0.0              0.0   \n",
              "4  ...               0.0              0.0              0.0              0.0   \n",
              "\n",
              "  AMT_REQ_CREDIT_BUREAU_HOUR AMT_REQ_CREDIT_BUREAU_DAY  \\\n",
              "0                        0.0                       0.0   \n",
              "1                        0.0                       0.0   \n",
              "2                        0.0                       0.0   \n",
              "3                        NaN                       NaN   \n",
              "4                        0.0                       0.0   \n",
              "\n",
              "   AMT_REQ_CREDIT_BUREAU_WEEK  AMT_REQ_CREDIT_BUREAU_MON  \\\n",
              "0                         0.0                        0.0   \n",
              "1                         0.0                        0.0   \n",
              "2                         0.0                        0.0   \n",
              "3                         NaN                        NaN   \n",
              "4                         0.0                        0.0   \n",
              "\n",
              "   AMT_REQ_CREDIT_BUREAU_QRT  AMT_REQ_CREDIT_BUREAU_YEAR  \n",
              "0                        0.0                         1.0  \n",
              "1                        0.0                         0.0  \n",
              "2                        0.0                         0.0  \n",
              "3                        NaN                         NaN  \n",
              "4                        0.0                         0.0  \n",
              "\n",
              "[5 rows x 122 columns]"
            ],
            "text/html": [
              "\n",
              "\n",
              "  <div id=\"df-07fc2fb8-e5fa-4f3e-b791-59cfdd85e9e1\">\n",
              "    <div class=\"colab-df-container\">\n",
              "      <div>\n",
              "<style scoped>\n",
              "    .dataframe tbody tr th:only-of-type {\n",
              "        vertical-align: middle;\n",
              "    }\n",
              "\n",
              "    .dataframe tbody tr th {\n",
              "        vertical-align: top;\n",
              "    }\n",
              "\n",
              "    .dataframe thead th {\n",
              "        text-align: right;\n",
              "    }\n",
              "</style>\n",
              "<table border=\"1\" class=\"dataframe\">\n",
              "  <thead>\n",
              "    <tr style=\"text-align: right;\">\n",
              "      <th></th>\n",
              "      <th>SK_ID_CURR</th>\n",
              "      <th>TARGET</th>\n",
              "      <th>NAME_CONTRACT_TYPE</th>\n",
              "      <th>CODE_GENDER</th>\n",
              "      <th>FLAG_OWN_CAR</th>\n",
              "      <th>FLAG_OWN_REALTY</th>\n",
              "      <th>CNT_CHILDREN</th>\n",
              "      <th>AMT_INCOME_TOTAL</th>\n",
              "      <th>AMT_CREDIT</th>\n",
              "      <th>AMT_ANNUITY</th>\n",
              "      <th>...</th>\n",
              "      <th>FLAG_DOCUMENT_18</th>\n",
              "      <th>FLAG_DOCUMENT_19</th>\n",
              "      <th>FLAG_DOCUMENT_20</th>\n",
              "      <th>FLAG_DOCUMENT_21</th>\n",
              "      <th>AMT_REQ_CREDIT_BUREAU_HOUR</th>\n",
              "      <th>AMT_REQ_CREDIT_BUREAU_DAY</th>\n",
              "      <th>AMT_REQ_CREDIT_BUREAU_WEEK</th>\n",
              "      <th>AMT_REQ_CREDIT_BUREAU_MON</th>\n",
              "      <th>AMT_REQ_CREDIT_BUREAU_QRT</th>\n",
              "      <th>AMT_REQ_CREDIT_BUREAU_YEAR</th>\n",
              "    </tr>\n",
              "  </thead>\n",
              "  <tbody>\n",
              "    <tr>\n",
              "      <th>0</th>\n",
              "      <td>100002</td>\n",
              "      <td>1</td>\n",
              "      <td>Cash loans</td>\n",
              "      <td>M</td>\n",
              "      <td>N</td>\n",
              "      <td>Y</td>\n",
              "      <td>0.0</td>\n",
              "      <td>202500.0</td>\n",
              "      <td>406597.5</td>\n",
              "      <td>24700.5</td>\n",
              "      <td>...</td>\n",
              "      <td>0.0</td>\n",
              "      <td>0.0</td>\n",
              "      <td>0.0</td>\n",
              "      <td>0.0</td>\n",
              "      <td>0.0</td>\n",
              "      <td>0.0</td>\n",
              "      <td>0.0</td>\n",
              "      <td>0.0</td>\n",
              "      <td>0.0</td>\n",
              "      <td>1.0</td>\n",
              "    </tr>\n",
              "    <tr>\n",
              "      <th>1</th>\n",
              "      <td>100003</td>\n",
              "      <td>0</td>\n",
              "      <td>Cash loans</td>\n",
              "      <td>F</td>\n",
              "      <td>N</td>\n",
              "      <td>N</td>\n",
              "      <td>0.0</td>\n",
              "      <td>270000.0</td>\n",
              "      <td>1293502.5</td>\n",
              "      <td>35698.5</td>\n",
              "      <td>...</td>\n",
              "      <td>0.0</td>\n",
              "      <td>0.0</td>\n",
              "      <td>0.0</td>\n",
              "      <td>0.0</td>\n",
              "      <td>0.0</td>\n",
              "      <td>0.0</td>\n",
              "      <td>0.0</td>\n",
              "      <td>0.0</td>\n",
              "      <td>0.0</td>\n",
              "      <td>0.0</td>\n",
              "    </tr>\n",
              "    <tr>\n",
              "      <th>2</th>\n",
              "      <td>100004</td>\n",
              "      <td>0</td>\n",
              "      <td>Revolving loans</td>\n",
              "      <td>M</td>\n",
              "      <td>Y</td>\n",
              "      <td>Y</td>\n",
              "      <td>0.0</td>\n",
              "      <td>67500.0</td>\n",
              "      <td>135000.0</td>\n",
              "      <td>6750.0</td>\n",
              "      <td>...</td>\n",
              "      <td>0.0</td>\n",
              "      <td>0.0</td>\n",
              "      <td>0.0</td>\n",
              "      <td>0.0</td>\n",
              "      <td>0.0</td>\n",
              "      <td>0.0</td>\n",
              "      <td>0.0</td>\n",
              "      <td>0.0</td>\n",
              "      <td>0.0</td>\n",
              "      <td>0.0</td>\n",
              "    </tr>\n",
              "    <tr>\n",
              "      <th>3</th>\n",
              "      <td>100006</td>\n",
              "      <td>0</td>\n",
              "      <td>Cash loans</td>\n",
              "      <td>F</td>\n",
              "      <td>N</td>\n",
              "      <td>Y</td>\n",
              "      <td>0.0</td>\n",
              "      <td>135000.0</td>\n",
              "      <td>312682.5</td>\n",
              "      <td>29686.5</td>\n",
              "      <td>...</td>\n",
              "      <td>0.0</td>\n",
              "      <td>0.0</td>\n",
              "      <td>0.0</td>\n",
              "      <td>0.0</td>\n",
              "      <td>NaN</td>\n",
              "      <td>NaN</td>\n",
              "      <td>NaN</td>\n",
              "      <td>NaN</td>\n",
              "      <td>NaN</td>\n",
              "      <td>NaN</td>\n",
              "    </tr>\n",
              "    <tr>\n",
              "      <th>4</th>\n",
              "      <td>100007</td>\n",
              "      <td>0</td>\n",
              "      <td>Cash loans</td>\n",
              "      <td>M</td>\n",
              "      <td>N</td>\n",
              "      <td>Y</td>\n",
              "      <td>0.0</td>\n",
              "      <td>121500.0</td>\n",
              "      <td>513000.0</td>\n",
              "      <td>21865.5</td>\n",
              "      <td>...</td>\n",
              "      <td>0.0</td>\n",
              "      <td>0.0</td>\n",
              "      <td>0.0</td>\n",
              "      <td>0.0</td>\n",
              "      <td>0.0</td>\n",
              "      <td>0.0</td>\n",
              "      <td>0.0</td>\n",
              "      <td>0.0</td>\n",
              "      <td>0.0</td>\n",
              "      <td>0.0</td>\n",
              "    </tr>\n",
              "  </tbody>\n",
              "</table>\n",
              "<p>5 rows × 122 columns</p>\n",
              "</div>\n",
              "      <button class=\"colab-df-convert\" onclick=\"convertToInteractive('df-07fc2fb8-e5fa-4f3e-b791-59cfdd85e9e1')\"\n",
              "              title=\"Convert this dataframe to an interactive table.\"\n",
              "              style=\"display:none;\">\n",
              "\n",
              "  <svg xmlns=\"http://www.w3.org/2000/svg\" height=\"24px\"viewBox=\"0 0 24 24\"\n",
              "       width=\"24px\">\n",
              "    <path d=\"M0 0h24v24H0V0z\" fill=\"none\"/>\n",
              "    <path d=\"M18.56 5.44l.94 2.06.94-2.06 2.06-.94-2.06-.94-.94-2.06-.94 2.06-2.06.94zm-11 1L8.5 8.5l.94-2.06 2.06-.94-2.06-.94L8.5 2.5l-.94 2.06-2.06.94zm10 10l.94 2.06.94-2.06 2.06-.94-2.06-.94-.94-2.06-.94 2.06-2.06.94z\"/><path d=\"M17.41 7.96l-1.37-1.37c-.4-.4-.92-.59-1.43-.59-.52 0-1.04.2-1.43.59L10.3 9.45l-7.72 7.72c-.78.78-.78 2.05 0 2.83L4 21.41c.39.39.9.59 1.41.59.51 0 1.02-.2 1.41-.59l7.78-7.78 2.81-2.81c.8-.78.8-2.07 0-2.86zM5.41 20L4 18.59l7.72-7.72 1.47 1.35L5.41 20z\"/>\n",
              "  </svg>\n",
              "      </button>\n",
              "\n",
              "\n",
              "\n",
              "    <div id=\"df-ecb038a2-a619-40ed-8040-500cead2a920\">\n",
              "      <button class=\"colab-df-quickchart\" onclick=\"quickchart('df-ecb038a2-a619-40ed-8040-500cead2a920')\"\n",
              "              title=\"Suggest charts.\"\n",
              "              style=\"display:none;\">\n",
              "\n",
              "<svg xmlns=\"http://www.w3.org/2000/svg\" height=\"24px\"viewBox=\"0 0 24 24\"\n",
              "     width=\"24px\">\n",
              "    <g>\n",
              "        <path d=\"M19 3H5c-1.1 0-2 .9-2 2v14c0 1.1.9 2 2 2h14c1.1 0 2-.9 2-2V5c0-1.1-.9-2-2-2zM9 17H7v-7h2v7zm4 0h-2V7h2v10zm4 0h-2v-4h2v4z\"/>\n",
              "    </g>\n",
              "</svg>\n",
              "      </button>\n",
              "    </div>\n",
              "\n",
              "<style>\n",
              "  .colab-df-quickchart {\n",
              "    background-color: #E8F0FE;\n",
              "    border: none;\n",
              "    border-radius: 50%;\n",
              "    cursor: pointer;\n",
              "    display: none;\n",
              "    fill: #1967D2;\n",
              "    height: 32px;\n",
              "    padding: 0 0 0 0;\n",
              "    width: 32px;\n",
              "  }\n",
              "\n",
              "  .colab-df-quickchart:hover {\n",
              "    background-color: #E2EBFA;\n",
              "    box-shadow: 0px 1px 2px rgba(60, 64, 67, 0.3), 0px 1px 3px 1px rgba(60, 64, 67, 0.15);\n",
              "    fill: #174EA6;\n",
              "  }\n",
              "\n",
              "  [theme=dark] .colab-df-quickchart {\n",
              "    background-color: #3B4455;\n",
              "    fill: #D2E3FC;\n",
              "  }\n",
              "\n",
              "  [theme=dark] .colab-df-quickchart:hover {\n",
              "    background-color: #434B5C;\n",
              "    box-shadow: 0px 1px 3px 1px rgba(0, 0, 0, 0.15);\n",
              "    filter: drop-shadow(0px 1px 2px rgba(0, 0, 0, 0.3));\n",
              "    fill: #FFFFFF;\n",
              "  }\n",
              "</style>\n",
              "\n",
              "    <script>\n",
              "      async function quickchart(key) {\n",
              "        const containerElement = document.querySelector('#' + key);\n",
              "        const charts = await google.colab.kernel.invokeFunction(\n",
              "            'suggestCharts', [key], {});\n",
              "      }\n",
              "    </script>\n",
              "\n",
              "      <script>\n",
              "\n",
              "function displayQuickchartButton(domScope) {\n",
              "  let quickchartButtonEl =\n",
              "    domScope.querySelector('#df-ecb038a2-a619-40ed-8040-500cead2a920 button.colab-df-quickchart');\n",
              "  quickchartButtonEl.style.display =\n",
              "    google.colab.kernel.accessAllowed ? 'block' : 'none';\n",
              "}\n",
              "\n",
              "        displayQuickchartButton(document);\n",
              "      </script>\n",
              "      <style>\n",
              "    .colab-df-container {\n",
              "      display:flex;\n",
              "      flex-wrap:wrap;\n",
              "      gap: 12px;\n",
              "    }\n",
              "\n",
              "    .colab-df-convert {\n",
              "      background-color: #E8F0FE;\n",
              "      border: none;\n",
              "      border-radius: 50%;\n",
              "      cursor: pointer;\n",
              "      display: none;\n",
              "      fill: #1967D2;\n",
              "      height: 32px;\n",
              "      padding: 0 0 0 0;\n",
              "      width: 32px;\n",
              "    }\n",
              "\n",
              "    .colab-df-convert:hover {\n",
              "      background-color: #E2EBFA;\n",
              "      box-shadow: 0px 1px 2px rgba(60, 64, 67, 0.3), 0px 1px 3px 1px rgba(60, 64, 67, 0.15);\n",
              "      fill: #174EA6;\n",
              "    }\n",
              "\n",
              "    [theme=dark] .colab-df-convert {\n",
              "      background-color: #3B4455;\n",
              "      fill: #D2E3FC;\n",
              "    }\n",
              "\n",
              "    [theme=dark] .colab-df-convert:hover {\n",
              "      background-color: #434B5C;\n",
              "      box-shadow: 0px 1px 3px 1px rgba(0, 0, 0, 0.15);\n",
              "      filter: drop-shadow(0px 1px 2px rgba(0, 0, 0, 0.3));\n",
              "      fill: #FFFFFF;\n",
              "    }\n",
              "  </style>\n",
              "\n",
              "      <script>\n",
              "        const buttonEl =\n",
              "          document.querySelector('#df-07fc2fb8-e5fa-4f3e-b791-59cfdd85e9e1 button.colab-df-convert');\n",
              "        buttonEl.style.display =\n",
              "          google.colab.kernel.accessAllowed ? 'block' : 'none';\n",
              "\n",
              "        async function convertToInteractive(key) {\n",
              "          const element = document.querySelector('#df-07fc2fb8-e5fa-4f3e-b791-59cfdd85e9e1');\n",
              "          const dataTable =\n",
              "            await google.colab.kernel.invokeFunction('convertToInteractive',\n",
              "                                                     [key], {});\n",
              "          if (!dataTable) return;\n",
              "\n",
              "          const docLinkHtml = 'Like what you see? Visit the ' +\n",
              "            '<a target=\"_blank\" href=https://colab.research.google.com/notebooks/data_table.ipynb>data table notebook</a>'\n",
              "            + ' to learn more about interactive tables.';\n",
              "          element.innerHTML = '';\n",
              "          dataTable['output_type'] = 'display_data';\n",
              "          await google.colab.output.renderOutput(dataTable, element);\n",
              "          const docLink = document.createElement('div');\n",
              "          docLink.innerHTML = docLinkHtml;\n",
              "          element.appendChild(docLink);\n",
              "        }\n",
              "      </script>\n",
              "    </div>\n",
              "  </div>\n"
            ]
          },
          "metadata": {},
          "execution_count": 3
        }
      ],
      "source": [
        "app_df = pd.read_csv('application_data.csv')\n",
        "app_df.head()"
      ]
    },
    {
      "cell_type": "code",
      "source": [
        "pvs_df = pd.read_csv('previous_application.csv')\n",
        "pvs_df.head()"
      ],
      "metadata": {
        "colab": {
          "base_uri": "https://localhost:8080/",
          "height": 300
        },
        "id": "akFTQJPEDESN",
        "outputId": "7ff60fb2-3adc-4f83-80ac-3e16ed3cbfa0"
      },
      "execution_count": 4,
      "outputs": [
        {
          "output_type": "execute_result",
          "data": {
            "text/plain": [
              "   SK_ID_PREV  SK_ID_CURR NAME_CONTRACT_TYPE  AMT_ANNUITY  AMT_APPLICATION  \\\n",
              "0     2030495      271877     Consumer loans     1730.430          17145.0   \n",
              "1     2802425      108129         Cash loans    25188.615         607500.0   \n",
              "2     2523466      122040         Cash loans    15060.735         112500.0   \n",
              "3     2819243      176158         Cash loans    47041.335         450000.0   \n",
              "4     1784265      202054         Cash loans    31924.395         337500.0   \n",
              "\n",
              "   AMT_CREDIT  AMT_DOWN_PAYMENT  AMT_GOODS_PRICE WEEKDAY_APPR_PROCESS_START  \\\n",
              "0     17145.0               0.0          17145.0                   SATURDAY   \n",
              "1    679671.0               NaN         607500.0                   THURSDAY   \n",
              "2    136444.5               NaN         112500.0                    TUESDAY   \n",
              "3    470790.0               NaN         450000.0                     MONDAY   \n",
              "4    404055.0               NaN         337500.0                   THURSDAY   \n",
              "\n",
              "   HOUR_APPR_PROCESS_START  ... NAME_SELLER_INDUSTRY  CNT_PAYMENT  \\\n",
              "0                       15  ...         Connectivity         12.0   \n",
              "1                       11  ...                  XNA         36.0   \n",
              "2                       11  ...                  XNA         12.0   \n",
              "3                        7  ...                  XNA         12.0   \n",
              "4                        9  ...                  XNA         24.0   \n",
              "\n",
              "   NAME_YIELD_GROUP       PRODUCT_COMBINATION  DAYS_FIRST_DRAWING  \\\n",
              "0            middle  POS mobile with interest            365243.0   \n",
              "1        low_action          Cash X-Sell: low            365243.0   \n",
              "2              high         Cash X-Sell: high            365243.0   \n",
              "3            middle       Cash X-Sell: middle            365243.0   \n",
              "4              high         Cash Street: high                 NaN   \n",
              "\n",
              "  DAYS_FIRST_DUE DAYS_LAST_DUE_1ST_VERSION  DAYS_LAST_DUE DAYS_TERMINATION  \\\n",
              "0          -42.0                     300.0          -42.0            -37.0   \n",
              "1         -134.0                     916.0       365243.0         365243.0   \n",
              "2         -271.0                      59.0       365243.0         365243.0   \n",
              "3         -482.0                    -152.0         -182.0           -177.0   \n",
              "4            NaN                       NaN            NaN              NaN   \n",
              "\n",
              "  NFLAG_INSURED_ON_APPROVAL  \n",
              "0                       0.0  \n",
              "1                       1.0  \n",
              "2                       1.0  \n",
              "3                       1.0  \n",
              "4                       NaN  \n",
              "\n",
              "[5 rows x 37 columns]"
            ],
            "text/html": [
              "\n",
              "\n",
              "  <div id=\"df-8c5a4cbc-f033-4072-91d5-f7a8ddbc3778\">\n",
              "    <div class=\"colab-df-container\">\n",
              "      <div>\n",
              "<style scoped>\n",
              "    .dataframe tbody tr th:only-of-type {\n",
              "        vertical-align: middle;\n",
              "    }\n",
              "\n",
              "    .dataframe tbody tr th {\n",
              "        vertical-align: top;\n",
              "    }\n",
              "\n",
              "    .dataframe thead th {\n",
              "        text-align: right;\n",
              "    }\n",
              "</style>\n",
              "<table border=\"1\" class=\"dataframe\">\n",
              "  <thead>\n",
              "    <tr style=\"text-align: right;\">\n",
              "      <th></th>\n",
              "      <th>SK_ID_PREV</th>\n",
              "      <th>SK_ID_CURR</th>\n",
              "      <th>NAME_CONTRACT_TYPE</th>\n",
              "      <th>AMT_ANNUITY</th>\n",
              "      <th>AMT_APPLICATION</th>\n",
              "      <th>AMT_CREDIT</th>\n",
              "      <th>AMT_DOWN_PAYMENT</th>\n",
              "      <th>AMT_GOODS_PRICE</th>\n",
              "      <th>WEEKDAY_APPR_PROCESS_START</th>\n",
              "      <th>HOUR_APPR_PROCESS_START</th>\n",
              "      <th>...</th>\n",
              "      <th>NAME_SELLER_INDUSTRY</th>\n",
              "      <th>CNT_PAYMENT</th>\n",
              "      <th>NAME_YIELD_GROUP</th>\n",
              "      <th>PRODUCT_COMBINATION</th>\n",
              "      <th>DAYS_FIRST_DRAWING</th>\n",
              "      <th>DAYS_FIRST_DUE</th>\n",
              "      <th>DAYS_LAST_DUE_1ST_VERSION</th>\n",
              "      <th>DAYS_LAST_DUE</th>\n",
              "      <th>DAYS_TERMINATION</th>\n",
              "      <th>NFLAG_INSURED_ON_APPROVAL</th>\n",
              "    </tr>\n",
              "  </thead>\n",
              "  <tbody>\n",
              "    <tr>\n",
              "      <th>0</th>\n",
              "      <td>2030495</td>\n",
              "      <td>271877</td>\n",
              "      <td>Consumer loans</td>\n",
              "      <td>1730.430</td>\n",
              "      <td>17145.0</td>\n",
              "      <td>17145.0</td>\n",
              "      <td>0.0</td>\n",
              "      <td>17145.0</td>\n",
              "      <td>SATURDAY</td>\n",
              "      <td>15</td>\n",
              "      <td>...</td>\n",
              "      <td>Connectivity</td>\n",
              "      <td>12.0</td>\n",
              "      <td>middle</td>\n",
              "      <td>POS mobile with interest</td>\n",
              "      <td>365243.0</td>\n",
              "      <td>-42.0</td>\n",
              "      <td>300.0</td>\n",
              "      <td>-42.0</td>\n",
              "      <td>-37.0</td>\n",
              "      <td>0.0</td>\n",
              "    </tr>\n",
              "    <tr>\n",
              "      <th>1</th>\n",
              "      <td>2802425</td>\n",
              "      <td>108129</td>\n",
              "      <td>Cash loans</td>\n",
              "      <td>25188.615</td>\n",
              "      <td>607500.0</td>\n",
              "      <td>679671.0</td>\n",
              "      <td>NaN</td>\n",
              "      <td>607500.0</td>\n",
              "      <td>THURSDAY</td>\n",
              "      <td>11</td>\n",
              "      <td>...</td>\n",
              "      <td>XNA</td>\n",
              "      <td>36.0</td>\n",
              "      <td>low_action</td>\n",
              "      <td>Cash X-Sell: low</td>\n",
              "      <td>365243.0</td>\n",
              "      <td>-134.0</td>\n",
              "      <td>916.0</td>\n",
              "      <td>365243.0</td>\n",
              "      <td>365243.0</td>\n",
              "      <td>1.0</td>\n",
              "    </tr>\n",
              "    <tr>\n",
              "      <th>2</th>\n",
              "      <td>2523466</td>\n",
              "      <td>122040</td>\n",
              "      <td>Cash loans</td>\n",
              "      <td>15060.735</td>\n",
              "      <td>112500.0</td>\n",
              "      <td>136444.5</td>\n",
              "      <td>NaN</td>\n",
              "      <td>112500.0</td>\n",
              "      <td>TUESDAY</td>\n",
              "      <td>11</td>\n",
              "      <td>...</td>\n",
              "      <td>XNA</td>\n",
              "      <td>12.0</td>\n",
              "      <td>high</td>\n",
              "      <td>Cash X-Sell: high</td>\n",
              "      <td>365243.0</td>\n",
              "      <td>-271.0</td>\n",
              "      <td>59.0</td>\n",
              "      <td>365243.0</td>\n",
              "      <td>365243.0</td>\n",
              "      <td>1.0</td>\n",
              "    </tr>\n",
              "    <tr>\n",
              "      <th>3</th>\n",
              "      <td>2819243</td>\n",
              "      <td>176158</td>\n",
              "      <td>Cash loans</td>\n",
              "      <td>47041.335</td>\n",
              "      <td>450000.0</td>\n",
              "      <td>470790.0</td>\n",
              "      <td>NaN</td>\n",
              "      <td>450000.0</td>\n",
              "      <td>MONDAY</td>\n",
              "      <td>7</td>\n",
              "      <td>...</td>\n",
              "      <td>XNA</td>\n",
              "      <td>12.0</td>\n",
              "      <td>middle</td>\n",
              "      <td>Cash X-Sell: middle</td>\n",
              "      <td>365243.0</td>\n",
              "      <td>-482.0</td>\n",
              "      <td>-152.0</td>\n",
              "      <td>-182.0</td>\n",
              "      <td>-177.0</td>\n",
              "      <td>1.0</td>\n",
              "    </tr>\n",
              "    <tr>\n",
              "      <th>4</th>\n",
              "      <td>1784265</td>\n",
              "      <td>202054</td>\n",
              "      <td>Cash loans</td>\n",
              "      <td>31924.395</td>\n",
              "      <td>337500.0</td>\n",
              "      <td>404055.0</td>\n",
              "      <td>NaN</td>\n",
              "      <td>337500.0</td>\n",
              "      <td>THURSDAY</td>\n",
              "      <td>9</td>\n",
              "      <td>...</td>\n",
              "      <td>XNA</td>\n",
              "      <td>24.0</td>\n",
              "      <td>high</td>\n",
              "      <td>Cash Street: high</td>\n",
              "      <td>NaN</td>\n",
              "      <td>NaN</td>\n",
              "      <td>NaN</td>\n",
              "      <td>NaN</td>\n",
              "      <td>NaN</td>\n",
              "      <td>NaN</td>\n",
              "    </tr>\n",
              "  </tbody>\n",
              "</table>\n",
              "<p>5 rows × 37 columns</p>\n",
              "</div>\n",
              "      <button class=\"colab-df-convert\" onclick=\"convertToInteractive('df-8c5a4cbc-f033-4072-91d5-f7a8ddbc3778')\"\n",
              "              title=\"Convert this dataframe to an interactive table.\"\n",
              "              style=\"display:none;\">\n",
              "\n",
              "  <svg xmlns=\"http://www.w3.org/2000/svg\" height=\"24px\"viewBox=\"0 0 24 24\"\n",
              "       width=\"24px\">\n",
              "    <path d=\"M0 0h24v24H0V0z\" fill=\"none\"/>\n",
              "    <path d=\"M18.56 5.44l.94 2.06.94-2.06 2.06-.94-2.06-.94-.94-2.06-.94 2.06-2.06.94zm-11 1L8.5 8.5l.94-2.06 2.06-.94-2.06-.94L8.5 2.5l-.94 2.06-2.06.94zm10 10l.94 2.06.94-2.06 2.06-.94-2.06-.94-.94-2.06-.94 2.06-2.06.94z\"/><path d=\"M17.41 7.96l-1.37-1.37c-.4-.4-.92-.59-1.43-.59-.52 0-1.04.2-1.43.59L10.3 9.45l-7.72 7.72c-.78.78-.78 2.05 0 2.83L4 21.41c.39.39.9.59 1.41.59.51 0 1.02-.2 1.41-.59l7.78-7.78 2.81-2.81c.8-.78.8-2.07 0-2.86zM5.41 20L4 18.59l7.72-7.72 1.47 1.35L5.41 20z\"/>\n",
              "  </svg>\n",
              "      </button>\n",
              "\n",
              "\n",
              "\n",
              "    <div id=\"df-ad68730b-439b-4ad0-a365-a65ab2d58d8a\">\n",
              "      <button class=\"colab-df-quickchart\" onclick=\"quickchart('df-ad68730b-439b-4ad0-a365-a65ab2d58d8a')\"\n",
              "              title=\"Suggest charts.\"\n",
              "              style=\"display:none;\">\n",
              "\n",
              "<svg xmlns=\"http://www.w3.org/2000/svg\" height=\"24px\"viewBox=\"0 0 24 24\"\n",
              "     width=\"24px\">\n",
              "    <g>\n",
              "        <path d=\"M19 3H5c-1.1 0-2 .9-2 2v14c0 1.1.9 2 2 2h14c1.1 0 2-.9 2-2V5c0-1.1-.9-2-2-2zM9 17H7v-7h2v7zm4 0h-2V7h2v10zm4 0h-2v-4h2v4z\"/>\n",
              "    </g>\n",
              "</svg>\n",
              "      </button>\n",
              "    </div>\n",
              "\n",
              "<style>\n",
              "  .colab-df-quickchart {\n",
              "    background-color: #E8F0FE;\n",
              "    border: none;\n",
              "    border-radius: 50%;\n",
              "    cursor: pointer;\n",
              "    display: none;\n",
              "    fill: #1967D2;\n",
              "    height: 32px;\n",
              "    padding: 0 0 0 0;\n",
              "    width: 32px;\n",
              "  }\n",
              "\n",
              "  .colab-df-quickchart:hover {\n",
              "    background-color: #E2EBFA;\n",
              "    box-shadow: 0px 1px 2px rgba(60, 64, 67, 0.3), 0px 1px 3px 1px rgba(60, 64, 67, 0.15);\n",
              "    fill: #174EA6;\n",
              "  }\n",
              "\n",
              "  [theme=dark] .colab-df-quickchart {\n",
              "    background-color: #3B4455;\n",
              "    fill: #D2E3FC;\n",
              "  }\n",
              "\n",
              "  [theme=dark] .colab-df-quickchart:hover {\n",
              "    background-color: #434B5C;\n",
              "    box-shadow: 0px 1px 3px 1px rgba(0, 0, 0, 0.15);\n",
              "    filter: drop-shadow(0px 1px 2px rgba(0, 0, 0, 0.3));\n",
              "    fill: #FFFFFF;\n",
              "  }\n",
              "</style>\n",
              "\n",
              "    <script>\n",
              "      async function quickchart(key) {\n",
              "        const containerElement = document.querySelector('#' + key);\n",
              "        const charts = await google.colab.kernel.invokeFunction(\n",
              "            'suggestCharts', [key], {});\n",
              "      }\n",
              "    </script>\n",
              "\n",
              "      <script>\n",
              "\n",
              "function displayQuickchartButton(domScope) {\n",
              "  let quickchartButtonEl =\n",
              "    domScope.querySelector('#df-ad68730b-439b-4ad0-a365-a65ab2d58d8a button.colab-df-quickchart');\n",
              "  quickchartButtonEl.style.display =\n",
              "    google.colab.kernel.accessAllowed ? 'block' : 'none';\n",
              "}\n",
              "\n",
              "        displayQuickchartButton(document);\n",
              "      </script>\n",
              "      <style>\n",
              "    .colab-df-container {\n",
              "      display:flex;\n",
              "      flex-wrap:wrap;\n",
              "      gap: 12px;\n",
              "    }\n",
              "\n",
              "    .colab-df-convert {\n",
              "      background-color: #E8F0FE;\n",
              "      border: none;\n",
              "      border-radius: 50%;\n",
              "      cursor: pointer;\n",
              "      display: none;\n",
              "      fill: #1967D2;\n",
              "      height: 32px;\n",
              "      padding: 0 0 0 0;\n",
              "      width: 32px;\n",
              "    }\n",
              "\n",
              "    .colab-df-convert:hover {\n",
              "      background-color: #E2EBFA;\n",
              "      box-shadow: 0px 1px 2px rgba(60, 64, 67, 0.3), 0px 1px 3px 1px rgba(60, 64, 67, 0.15);\n",
              "      fill: #174EA6;\n",
              "    }\n",
              "\n",
              "    [theme=dark] .colab-df-convert {\n",
              "      background-color: #3B4455;\n",
              "      fill: #D2E3FC;\n",
              "    }\n",
              "\n",
              "    [theme=dark] .colab-df-convert:hover {\n",
              "      background-color: #434B5C;\n",
              "      box-shadow: 0px 1px 3px 1px rgba(0, 0, 0, 0.15);\n",
              "      filter: drop-shadow(0px 1px 2px rgba(0, 0, 0, 0.3));\n",
              "      fill: #FFFFFF;\n",
              "    }\n",
              "  </style>\n",
              "\n",
              "      <script>\n",
              "        const buttonEl =\n",
              "          document.querySelector('#df-8c5a4cbc-f033-4072-91d5-f7a8ddbc3778 button.colab-df-convert');\n",
              "        buttonEl.style.display =\n",
              "          google.colab.kernel.accessAllowed ? 'block' : 'none';\n",
              "\n",
              "        async function convertToInteractive(key) {\n",
              "          const element = document.querySelector('#df-8c5a4cbc-f033-4072-91d5-f7a8ddbc3778');\n",
              "          const dataTable =\n",
              "            await google.colab.kernel.invokeFunction('convertToInteractive',\n",
              "                                                     [key], {});\n",
              "          if (!dataTable) return;\n",
              "\n",
              "          const docLinkHtml = 'Like what you see? Visit the ' +\n",
              "            '<a target=\"_blank\" href=https://colab.research.google.com/notebooks/data_table.ipynb>data table notebook</a>'\n",
              "            + ' to learn more about interactive tables.';\n",
              "          element.innerHTML = '';\n",
              "          dataTable['output_type'] = 'display_data';\n",
              "          await google.colab.output.renderOutput(dataTable, element);\n",
              "          const docLink = document.createElement('div');\n",
              "          docLink.innerHTML = docLinkHtml;\n",
              "          element.appendChild(docLink);\n",
              "        }\n",
              "      </script>\n",
              "    </div>\n",
              "  </div>\n"
            ]
          },
          "metadata": {},
          "execution_count": 4
        }
      ]
    },
    {
      "cell_type": "markdown",
      "source": [
        "Rows & Coumns of both the datasets"
      ],
      "metadata": {
        "id": "VfgGrRNaK2OK"
      }
    },
    {
      "cell_type": "code",
      "source": [
        "print(app_df.shape)\n",
        "print(pvs_df.shape)"
      ],
      "metadata": {
        "colab": {
          "base_uri": "https://localhost:8080/"
        },
        "id": "AdeLsnJhK1PD",
        "outputId": "4d367c7f-987f-4fa9-8011-3fde0ba8af93"
      },
      "execution_count": 5,
      "outputs": [
        {
          "output_type": "stream",
          "name": "stdout",
          "text": [
            "(75700, 122)\n",
            "(4196, 37)\n"
          ]
        }
      ]
    },
    {
      "cell_type": "markdown",
      "source": [
        "Look at colums of Application dataset"
      ],
      "metadata": {
        "id": "8_QgeDYsLlDa"
      }
    },
    {
      "cell_type": "code",
      "source": [
        "app_df.columns"
      ],
      "metadata": {
        "colab": {
          "base_uri": "https://localhost:8080/"
        },
        "id": "gyIYKSqxLr3a",
        "outputId": "eb07fffe-2541-47e9-cbfb-bb472b7d9753"
      },
      "execution_count": 10,
      "outputs": [
        {
          "output_type": "execute_result",
          "data": {
            "text/plain": [
              "Index(['SK_ID_CURR', 'TARGET', 'NAME_CONTRACT_TYPE', 'CODE_GENDER',\n",
              "       'FLAG_OWN_CAR', 'FLAG_OWN_REALTY', 'CNT_CHILDREN', 'AMT_INCOME_TOTAL',\n",
              "       'AMT_CREDIT', 'AMT_ANNUITY',\n",
              "       ...\n",
              "       'FLAG_DOCUMENT_18', 'FLAG_DOCUMENT_19', 'FLAG_DOCUMENT_20',\n",
              "       'FLAG_DOCUMENT_21', 'AMT_REQ_CREDIT_BUREAU_HOUR',\n",
              "       'AMT_REQ_CREDIT_BUREAU_DAY', 'AMT_REQ_CREDIT_BUREAU_WEEK',\n",
              "       'AMT_REQ_CREDIT_BUREAU_MON', 'AMT_REQ_CREDIT_BUREAU_QRT',\n",
              "       'AMT_REQ_CREDIT_BUREAU_YEAR'],\n",
              "      dtype='object', length=122)"
            ]
          },
          "metadata": {},
          "execution_count": 10
        }
      ]
    },
    {
      "cell_type": "markdown",
      "source": [
        "Check for null values in 'Application' data"
      ],
      "metadata": {
        "id": "FDGYGsfPL2B_"
      }
    },
    {
      "cell_type": "code",
      "source": [
        "app_df.isnull().sum()"
      ],
      "metadata": {
        "colab": {
          "base_uri": "https://localhost:8080/"
        },
        "id": "6ltfVcbNL-l4",
        "outputId": "8f846570-0027-48aa-a609-17a248828ec7"
      },
      "execution_count": 9,
      "outputs": [
        {
          "output_type": "execute_result",
          "data": {
            "text/plain": [
              "SK_ID_CURR                          0\n",
              "TARGET                              0\n",
              "NAME_CONTRACT_TYPE                  1\n",
              "CODE_GENDER                         1\n",
              "FLAG_OWN_CAR                        1\n",
              "FLAG_OWN_REALTY                     1\n",
              "CNT_CHILDREN                        1\n",
              "AMT_INCOME_TOTAL                    1\n",
              "AMT_CREDIT                          1\n",
              "AMT_ANNUITY                         6\n",
              "AMT_GOODS_PRICE                    64\n",
              "NAME_TYPE_SUITE                   304\n",
              "NAME_INCOME_TYPE                    1\n",
              "NAME_EDUCATION_TYPE                 1\n",
              "NAME_FAMILY_STATUS                  1\n",
              "NAME_HOUSING_TYPE                   1\n",
              "REGION_POPULATION_RELATIVE          1\n",
              "DAYS_BIRTH                          1\n",
              "DAYS_EMPLOYED                       1\n",
              "DAYS_REGISTRATION                   1\n",
              "DAYS_ID_PUBLISH                     1\n",
              "OWN_CAR_AGE                     49919\n",
              "FLAG_MOBIL                          1\n",
              "FLAG_EMP_PHONE                      1\n",
              "FLAG_WORK_PHONE                     1\n",
              "FLAG_CONT_MOBILE                    1\n",
              "FLAG_PHONE                          1\n",
              "FLAG_EMAIL                          1\n",
              "OCCUPATION_TYPE                 23752\n",
              "CNT_FAM_MEMBERS                     2\n",
              "REGION_RATING_CLIENT                1\n",
              "REGION_RATING_CLIENT_W_CITY         1\n",
              "WEEKDAY_APPR_PROCESS_START          1\n",
              "HOUR_APPR_PROCESS_START             1\n",
              "REG_REGION_NOT_LIVE_REGION          1\n",
              "REG_REGION_NOT_WORK_REGION          1\n",
              "LIVE_REGION_NOT_WORK_REGION         1\n",
              "REG_CITY_NOT_LIVE_CITY              1\n",
              "REG_CITY_NOT_WORK_CITY              1\n",
              "LIVE_CITY_NOT_WORK_CITY             1\n",
              "ORGANIZATION_TYPE                   1\n",
              "EXT_SOURCE_1                    42780\n",
              "EXT_SOURCE_2                      174\n",
              "EXT_SOURCE_3                    14935\n",
              "APARTMENTS_AVG                  38452\n",
              "BASEMENTAREA_AVG                44273\n",
              "YEARS_BEGINEXPLUATATION_AVG     36947\n",
              "YEARS_BUILD_AVG                 50305\n",
              "COMMONAREA_AVG                  52854\n",
              "ELEVATORS_AVG                   40385\n",
              "ENTRANCES_AVG                   38148\n",
              "FLOORSMAX_AVG                   37698\n",
              "FLOORSMIN_AVG                   51303\n",
              "LANDAREA_AVG                    44960\n",
              "LIVINGAPARTMENTS_AVG            51731\n",
              "LIVINGAREA_AVG                  38053\n",
              "NONLIVINGAPARTMENTS_AVG         52500\n",
              "NONLIVINGAREA_AVG               41746\n",
              "APARTMENTS_MODE                 38452\n",
              "BASEMENTAREA_MODE               44273\n",
              "YEARS_BEGINEXPLUATATION_MODE    36947\n",
              "YEARS_BUILD_MODE                50305\n",
              "COMMONAREA_MODE                 52854\n",
              "ELEVATORS_MODE                  40385\n",
              "ENTRANCES_MODE                  38148\n",
              "FLOORSMAX_MODE                  37698\n",
              "FLOORSMIN_MODE                  51303\n",
              "LANDAREA_MODE                   44960\n",
              "LIVINGAPARTMENTS_MODE           51731\n",
              "LIVINGAREA_MODE                 38053\n",
              "NONLIVINGAPARTMENTS_MODE        52500\n",
              "NONLIVINGAREA_MODE              41746\n",
              "APARTMENTS_MEDI                 38452\n",
              "BASEMENTAREA_MEDI               44273\n",
              "YEARS_BEGINEXPLUATATION_MEDI    36947\n",
              "YEARS_BUILD_MEDI                50305\n",
              "COMMONAREA_MEDI                 52854\n",
              "ELEVATORS_MEDI                  40385\n",
              "ENTRANCES_MEDI                  38148\n",
              "FLOORSMAX_MEDI                  37698\n",
              "FLOORSMIN_MEDI                  51303\n",
              "LANDAREA_MEDI                   44960\n",
              "LIVINGAPARTMENTS_MEDI           51731\n",
              "LIVINGAREA_MEDI                 38053\n",
              "NONLIVINGAPARTMENTS_MEDI        52500\n",
              "NONLIVINGAREA_MEDI              41746\n",
              "FONDKAPREMONT_MODE              51668\n",
              "HOUSETYPE_MODE                  38007\n",
              "TOTALAREA_MODE                  36582\n",
              "WALLSMATERIAL_MODE              38550\n",
              "EMERGENCYSTATE_MODE             35917\n",
              "OBS_30_CNT_SOCIAL_CIRCLE          248\n",
              "DEF_30_CNT_SOCIAL_CIRCLE          248\n",
              "OBS_60_CNT_SOCIAL_CIRCLE          248\n",
              "DEF_60_CNT_SOCIAL_CIRCLE          248\n",
              "DAYS_LAST_PHONE_CHANGE              2\n",
              "FLAG_DOCUMENT_2                     1\n",
              "FLAG_DOCUMENT_3                     1\n",
              "FLAG_DOCUMENT_4                     1\n",
              "FLAG_DOCUMENT_5                     1\n",
              "FLAG_DOCUMENT_6                     1\n",
              "FLAG_DOCUMENT_7                     1\n",
              "FLAG_DOCUMENT_8                     1\n",
              "FLAG_DOCUMENT_9                     1\n",
              "FLAG_DOCUMENT_10                    1\n",
              "FLAG_DOCUMENT_11                    1\n",
              "FLAG_DOCUMENT_12                    1\n",
              "FLAG_DOCUMENT_13                    1\n",
              "FLAG_DOCUMENT_14                    1\n",
              "FLAG_DOCUMENT_15                    1\n",
              "FLAG_DOCUMENT_16                    1\n",
              "FLAG_DOCUMENT_17                    1\n",
              "FLAG_DOCUMENT_18                    1\n",
              "FLAG_DOCUMENT_19                    1\n",
              "FLAG_DOCUMENT_20                    1\n",
              "FLAG_DOCUMENT_21                    1\n",
              "AMT_REQ_CREDIT_BUREAU_HOUR      10114\n",
              "AMT_REQ_CREDIT_BUREAU_DAY       10114\n",
              "AMT_REQ_CREDIT_BUREAU_WEEK      10114\n",
              "AMT_REQ_CREDIT_BUREAU_MON       10114\n",
              "AMT_REQ_CREDIT_BUREAU_QRT       10114\n",
              "AMT_REQ_CREDIT_BUREAU_YEAR      10114\n",
              "dtype: int64"
            ]
          },
          "metadata": {},
          "execution_count": 9
        }
      ]
    },
    {
      "cell_type": "markdown",
      "source": [
        "null values in percentages"
      ],
      "metadata": {
        "id": "ZgKAjdTkNw8P"
      }
    },
    {
      "cell_type": "code",
      "source": [
        "100 * round(app_df.isnull().sum()/len(app_df),2)"
      ],
      "metadata": {
        "colab": {
          "base_uri": "https://localhost:8080/"
        },
        "id": "Ub54W1uHOZwz",
        "outputId": "02d30c09-b818-4f1f-9517-d885e9459008"
      },
      "execution_count": 12,
      "outputs": [
        {
          "output_type": "execute_result",
          "data": {
            "text/plain": [
              "SK_ID_CURR                       0.0\n",
              "TARGET                           0.0\n",
              "NAME_CONTRACT_TYPE               0.0\n",
              "CODE_GENDER                      0.0\n",
              "FLAG_OWN_CAR                     0.0\n",
              "FLAG_OWN_REALTY                  0.0\n",
              "CNT_CHILDREN                     0.0\n",
              "AMT_INCOME_TOTAL                 0.0\n",
              "AMT_CREDIT                       0.0\n",
              "AMT_ANNUITY                      0.0\n",
              "AMT_GOODS_PRICE                  0.0\n",
              "NAME_TYPE_SUITE                  0.0\n",
              "NAME_INCOME_TYPE                 0.0\n",
              "NAME_EDUCATION_TYPE              0.0\n",
              "NAME_FAMILY_STATUS               0.0\n",
              "NAME_HOUSING_TYPE                0.0\n",
              "REGION_POPULATION_RELATIVE       0.0\n",
              "DAYS_BIRTH                       0.0\n",
              "DAYS_EMPLOYED                    0.0\n",
              "DAYS_REGISTRATION                0.0\n",
              "DAYS_ID_PUBLISH                  0.0\n",
              "OWN_CAR_AGE                     66.0\n",
              "FLAG_MOBIL                       0.0\n",
              "FLAG_EMP_PHONE                   0.0\n",
              "FLAG_WORK_PHONE                  0.0\n",
              "FLAG_CONT_MOBILE                 0.0\n",
              "FLAG_PHONE                       0.0\n",
              "FLAG_EMAIL                       0.0\n",
              "OCCUPATION_TYPE                 31.0\n",
              "CNT_FAM_MEMBERS                  0.0\n",
              "REGION_RATING_CLIENT             0.0\n",
              "REGION_RATING_CLIENT_W_CITY      0.0\n",
              "WEEKDAY_APPR_PROCESS_START       0.0\n",
              "HOUR_APPR_PROCESS_START          0.0\n",
              "REG_REGION_NOT_LIVE_REGION       0.0\n",
              "REG_REGION_NOT_WORK_REGION       0.0\n",
              "LIVE_REGION_NOT_WORK_REGION      0.0\n",
              "REG_CITY_NOT_LIVE_CITY           0.0\n",
              "REG_CITY_NOT_WORK_CITY           0.0\n",
              "LIVE_CITY_NOT_WORK_CITY          0.0\n",
              "ORGANIZATION_TYPE                0.0\n",
              "EXT_SOURCE_1                    57.0\n",
              "EXT_SOURCE_2                     0.0\n",
              "EXT_SOURCE_3                    20.0\n",
              "APARTMENTS_AVG                  51.0\n",
              "BASEMENTAREA_AVG                58.0\n",
              "YEARS_BEGINEXPLUATATION_AVG     49.0\n",
              "YEARS_BUILD_AVG                 66.0\n",
              "COMMONAREA_AVG                  70.0\n",
              "ELEVATORS_AVG                   53.0\n",
              "ENTRANCES_AVG                   50.0\n",
              "FLOORSMAX_AVG                   50.0\n",
              "FLOORSMIN_AVG                   68.0\n",
              "LANDAREA_AVG                    59.0\n",
              "LIVINGAPARTMENTS_AVG            68.0\n",
              "LIVINGAREA_AVG                  50.0\n",
              "NONLIVINGAPARTMENTS_AVG         69.0\n",
              "NONLIVINGAREA_AVG               55.0\n",
              "APARTMENTS_MODE                 51.0\n",
              "BASEMENTAREA_MODE               58.0\n",
              "YEARS_BEGINEXPLUATATION_MODE    49.0\n",
              "YEARS_BUILD_MODE                66.0\n",
              "COMMONAREA_MODE                 70.0\n",
              "ELEVATORS_MODE                  53.0\n",
              "ENTRANCES_MODE                  50.0\n",
              "FLOORSMAX_MODE                  50.0\n",
              "FLOORSMIN_MODE                  68.0\n",
              "LANDAREA_MODE                   59.0\n",
              "LIVINGAPARTMENTS_MODE           68.0\n",
              "LIVINGAREA_MODE                 50.0\n",
              "NONLIVINGAPARTMENTS_MODE        69.0\n",
              "NONLIVINGAREA_MODE              55.0\n",
              "APARTMENTS_MEDI                 51.0\n",
              "BASEMENTAREA_MEDI               58.0\n",
              "YEARS_BEGINEXPLUATATION_MEDI    49.0\n",
              "YEARS_BUILD_MEDI                66.0\n",
              "COMMONAREA_MEDI                 70.0\n",
              "ELEVATORS_MEDI                  53.0\n",
              "ENTRANCES_MEDI                  50.0\n",
              "FLOORSMAX_MEDI                  50.0\n",
              "FLOORSMIN_MEDI                  68.0\n",
              "LANDAREA_MEDI                   59.0\n",
              "LIVINGAPARTMENTS_MEDI           68.0\n",
              "LIVINGAREA_MEDI                 50.0\n",
              "NONLIVINGAPARTMENTS_MEDI        69.0\n",
              "NONLIVINGAREA_MEDI              55.0\n",
              "FONDKAPREMONT_MODE              68.0\n",
              "HOUSETYPE_MODE                  50.0\n",
              "TOTALAREA_MODE                  48.0\n",
              "WALLSMATERIAL_MODE              51.0\n",
              "EMERGENCYSTATE_MODE             47.0\n",
              "OBS_30_CNT_SOCIAL_CIRCLE         0.0\n",
              "DEF_30_CNT_SOCIAL_CIRCLE         0.0\n",
              "OBS_60_CNT_SOCIAL_CIRCLE         0.0\n",
              "DEF_60_CNT_SOCIAL_CIRCLE         0.0\n",
              "DAYS_LAST_PHONE_CHANGE           0.0\n",
              "FLAG_DOCUMENT_2                  0.0\n",
              "FLAG_DOCUMENT_3                  0.0\n",
              "FLAG_DOCUMENT_4                  0.0\n",
              "FLAG_DOCUMENT_5                  0.0\n",
              "FLAG_DOCUMENT_6                  0.0\n",
              "FLAG_DOCUMENT_7                  0.0\n",
              "FLAG_DOCUMENT_8                  0.0\n",
              "FLAG_DOCUMENT_9                  0.0\n",
              "FLAG_DOCUMENT_10                 0.0\n",
              "FLAG_DOCUMENT_11                 0.0\n",
              "FLAG_DOCUMENT_12                 0.0\n",
              "FLAG_DOCUMENT_13                 0.0\n",
              "FLAG_DOCUMENT_14                 0.0\n",
              "FLAG_DOCUMENT_15                 0.0\n",
              "FLAG_DOCUMENT_16                 0.0\n",
              "FLAG_DOCUMENT_17                 0.0\n",
              "FLAG_DOCUMENT_18                 0.0\n",
              "FLAG_DOCUMENT_19                 0.0\n",
              "FLAG_DOCUMENT_20                 0.0\n",
              "FLAG_DOCUMENT_21                 0.0\n",
              "AMT_REQ_CREDIT_BUREAU_HOUR      13.0\n",
              "AMT_REQ_CREDIT_BUREAU_DAY       13.0\n",
              "AMT_REQ_CREDIT_BUREAU_WEEK      13.0\n",
              "AMT_REQ_CREDIT_BUREAU_MON       13.0\n",
              "AMT_REQ_CREDIT_BUREAU_QRT       13.0\n",
              "AMT_REQ_CREDIT_BUREAU_YEAR      13.0\n",
              "dtype: float64"
            ]
          },
          "metadata": {},
          "execution_count": 12
        }
      ]
    },
    {
      "cell_type": "markdown",
      "source": [
        "Removing Null values columns that are more than 30%\n"
      ],
      "metadata": {
        "id": "uzO1T1SxQJhl"
      }
    },
    {
      "cell_type": "code",
      "source": [
        "app_df = app_df.loc[:,app_df.isnull().mean()<=.3]"
      ],
      "metadata": {
        "id": "KAeergy_QeJJ"
      },
      "execution_count": 13,
      "outputs": []
    },
    {
      "cell_type": "markdown",
      "source": [
        "after removing columns chaecking for the length of the dataset :-\n"
      ],
      "metadata": {
        "id": "6cjWGYLkUViT"
      }
    },
    {
      "cell_type": "code",
      "source": [
        "print(app_df.shape)\n",
        "len(app_df.columns)"
      ],
      "metadata": {
        "colab": {
          "base_uri": "https://localhost:8080/"
        },
        "id": "RgVflp01UUzj",
        "outputId": "b7b42abd-143a-49e3-d461-162e179d9f5d"
      },
      "execution_count": 16,
      "outputs": [
        {
          "output_type": "stream",
          "name": "stdout",
          "text": [
            "(75700, 72)\n"
          ]
        },
        {
          "output_type": "execute_result",
          "data": {
            "text/plain": [
              "72"
            ]
          },
          "metadata": {},
          "execution_count": 16
        }
      ]
    },
    {
      "cell_type": "markdown",
      "source": [
        "# Previous Application dataset\n"
      ],
      "metadata": {
        "id": "ASjPYjZuU-Rn"
      }
    },
    {
      "cell_type": "markdown",
      "source": [
        "Checking for null values in the second dataset"
      ],
      "metadata": {
        "id": "72L5mFnaVYHB"
      }
    },
    {
      "cell_type": "code",
      "source": [
        "pvs_df.isnull().sum()"
      ],
      "metadata": {
        "colab": {
          "base_uri": "https://localhost:8080/"
        },
        "id": "Yxywlqj2VFbj",
        "outputId": "81ceb6b6-f530-4012-c541-d06640f9e4be"
      },
      "execution_count": 17,
      "outputs": [
        {
          "output_type": "execute_result",
          "data": {
            "text/plain": [
              "SK_ID_PREV                        0\n",
              "SK_ID_CURR                        0\n",
              "NAME_CONTRACT_TYPE                0\n",
              "AMT_ANNUITY                     802\n",
              "AMT_APPLICATION                   0\n",
              "AMT_CREDIT                        0\n",
              "AMT_DOWN_PAYMENT               1875\n",
              "AMT_GOODS_PRICE                 818\n",
              "WEEKDAY_APPR_PROCESS_START        0\n",
              "HOUR_APPR_PROCESS_START           0\n",
              "FLAG_LAST_APPL_PER_CONTRACT       0\n",
              "NFLAG_LAST_APPL_IN_DAY            0\n",
              "RATE_DOWN_PAYMENT              1875\n",
              "RATE_INTEREST_PRIMARY          4178\n",
              "RATE_INTEREST_PRIVILEGED       4178\n",
              "NAME_CASH_LOAN_PURPOSE            0\n",
              "NAME_CONTRACT_STATUS              0\n",
              "DAYS_DECISION                     0\n",
              "NAME_PAYMENT_TYPE                 0\n",
              "CODE_REJECT_REASON                0\n",
              "NAME_TYPE_SUITE                2008\n",
              "NAME_CLIENT_TYPE                  0\n",
              "NAME_GOODS_CATEGORY               0\n",
              "NAME_PORTFOLIO                    0\n",
              "NAME_PRODUCT_TYPE                 0\n",
              "CHANNEL_TYPE                      0\n",
              "SELLERPLACE_AREA                  0\n",
              "NAME_SELLER_INDUSTRY              0\n",
              "CNT_PAYMENT                     802\n",
              "NAME_YIELD_GROUP                  0\n",
              "PRODUCT_COMBINATION               0\n",
              "DAYS_FIRST_DRAWING             1523\n",
              "DAYS_FIRST_DUE                 1523\n",
              "DAYS_LAST_DUE_1ST_VERSION      1523\n",
              "DAYS_LAST_DUE                  1523\n",
              "DAYS_TERMINATION               1523\n",
              "NFLAG_INSURED_ON_APPROVAL      1523\n",
              "dtype: int64"
            ]
          },
          "metadata": {},
          "execution_count": 17
        }
      ]
    },
    {
      "cell_type": "markdown",
      "source": [
        "null values in percentages\n"
      ],
      "metadata": {
        "id": "TckkRR5nWFJm"
      }
    },
    {
      "cell_type": "code",
      "source": [
        "100 * round(pvs_df.isnull().sum()/len(pvs_df),2)"
      ],
      "metadata": {
        "colab": {
          "base_uri": "https://localhost:8080/"
        },
        "id": "-e9_iusSWIPr",
        "outputId": "6e424c25-85cf-44c1-e77e-a3d0ca663fc3"
      },
      "execution_count": 18,
      "outputs": [
        {
          "output_type": "execute_result",
          "data": {
            "text/plain": [
              "SK_ID_PREV                       0.0\n",
              "SK_ID_CURR                       0.0\n",
              "NAME_CONTRACT_TYPE               0.0\n",
              "AMT_ANNUITY                     19.0\n",
              "AMT_APPLICATION                  0.0\n",
              "AMT_CREDIT                       0.0\n",
              "AMT_DOWN_PAYMENT                45.0\n",
              "AMT_GOODS_PRICE                 19.0\n",
              "WEEKDAY_APPR_PROCESS_START       0.0\n",
              "HOUR_APPR_PROCESS_START          0.0\n",
              "FLAG_LAST_APPL_PER_CONTRACT      0.0\n",
              "NFLAG_LAST_APPL_IN_DAY           0.0\n",
              "RATE_DOWN_PAYMENT               45.0\n",
              "RATE_INTEREST_PRIMARY          100.0\n",
              "RATE_INTEREST_PRIVILEGED       100.0\n",
              "NAME_CASH_LOAN_PURPOSE           0.0\n",
              "NAME_CONTRACT_STATUS             0.0\n",
              "DAYS_DECISION                    0.0\n",
              "NAME_PAYMENT_TYPE                0.0\n",
              "CODE_REJECT_REASON               0.0\n",
              "NAME_TYPE_SUITE                 48.0\n",
              "NAME_CLIENT_TYPE                 0.0\n",
              "NAME_GOODS_CATEGORY              0.0\n",
              "NAME_PORTFOLIO                   0.0\n",
              "NAME_PRODUCT_TYPE                0.0\n",
              "CHANNEL_TYPE                     0.0\n",
              "SELLERPLACE_AREA                 0.0\n",
              "NAME_SELLER_INDUSTRY             0.0\n",
              "CNT_PAYMENT                     19.0\n",
              "NAME_YIELD_GROUP                 0.0\n",
              "PRODUCT_COMBINATION              0.0\n",
              "DAYS_FIRST_DRAWING              36.0\n",
              "DAYS_FIRST_DUE                  36.0\n",
              "DAYS_LAST_DUE_1ST_VERSION       36.0\n",
              "DAYS_LAST_DUE                   36.0\n",
              "DAYS_TERMINATION                36.0\n",
              "NFLAG_INSURED_ON_APPROVAL       36.0\n",
              "dtype: float64"
            ]
          },
          "metadata": {},
          "execution_count": 18
        }
      ]
    },
    {
      "cell_type": "markdown",
      "source": [
        "Removing null values columns that are more than 40%\n"
      ],
      "metadata": {
        "id": "kUhXnOEOXBTt"
      }
    },
    {
      "cell_type": "code",
      "source": [
        "pvs_df = pvs_df.loc[:, pvs_df.isnull().mean() <= .36]"
      ],
      "metadata": {
        "id": "RldwZMThXTPS"
      },
      "execution_count": 22,
      "outputs": []
    },
    {
      "cell_type": "markdown",
      "source": [
        "Checking columns of the 'previous application' after removing null values"
      ],
      "metadata": {
        "id": "vjDclGfkYK42"
      }
    },
    {
      "cell_type": "code",
      "source": [
        "print(pvs_df.shape)\n",
        "len(pvs_df.columns)"
      ],
      "metadata": {
        "colab": {
          "base_uri": "https://localhost:8080/"
        },
        "id": "hOdiV74-YX-A",
        "outputId": "3b7c309f-c7f3-48c3-d633-e8214ca896e9"
      },
      "execution_count": 23,
      "outputs": [
        {
          "output_type": "stream",
          "name": "stdout",
          "text": [
            "(4196, 26)\n"
          ]
        },
        {
          "output_type": "execute_result",
          "data": {
            "text/plain": [
              "26"
            ]
          },
          "metadata": {},
          "execution_count": 23
        }
      ]
    },
    {
      "cell_type": "code",
      "source": [
        "100 * round(pvs_df.isnull().sum()/len(pvs_df),2)"
      ],
      "metadata": {
        "colab": {
          "base_uri": "https://localhost:8080/"
        },
        "id": "oF-hpEXoY-ug",
        "outputId": "fc7a53fa-a31f-49f1-8167-7e03ccd002ad"
      },
      "execution_count": 24,
      "outputs": [
        {
          "output_type": "execute_result",
          "data": {
            "text/plain": [
              "SK_ID_PREV                      0.0\n",
              "SK_ID_CURR                      0.0\n",
              "NAME_CONTRACT_TYPE              0.0\n",
              "AMT_ANNUITY                    19.0\n",
              "AMT_APPLICATION                 0.0\n",
              "AMT_CREDIT                      0.0\n",
              "AMT_GOODS_PRICE                19.0\n",
              "WEEKDAY_APPR_PROCESS_START      0.0\n",
              "HOUR_APPR_PROCESS_START         0.0\n",
              "FLAG_LAST_APPL_PER_CONTRACT     0.0\n",
              "NFLAG_LAST_APPL_IN_DAY          0.0\n",
              "NAME_CASH_LOAN_PURPOSE          0.0\n",
              "NAME_CONTRACT_STATUS            0.0\n",
              "DAYS_DECISION                   0.0\n",
              "NAME_PAYMENT_TYPE               0.0\n",
              "CODE_REJECT_REASON              0.0\n",
              "NAME_CLIENT_TYPE                0.0\n",
              "NAME_GOODS_CATEGORY             0.0\n",
              "NAME_PORTFOLIO                  0.0\n",
              "NAME_PRODUCT_TYPE               0.0\n",
              "CHANNEL_TYPE                    0.0\n",
              "SELLERPLACE_AREA                0.0\n",
              "NAME_SELLER_INDUSTRY            0.0\n",
              "CNT_PAYMENT                    19.0\n",
              "NAME_YIELD_GROUP                0.0\n",
              "PRODUCT_COMBINATION             0.0\n",
              "dtype: float64"
            ]
          },
          "metadata": {},
          "execution_count": 24
        }
      ]
    },
    {
      "cell_type": "markdown",
      "source": [
        "# Application dataset\n"
      ],
      "metadata": {
        "id": "_3XK-A7ZZHse"
      }
    },
    {
      "cell_type": "markdown",
      "source": [
        "Imputing missing values\n"
      ],
      "metadata": {
        "id": "PmkJwboFZL71"
      }
    },
    {
      "cell_type": "code",
      "source": [
        "app_df.isnull().sum()"
      ],
      "metadata": {
        "colab": {
          "base_uri": "https://localhost:8080/"
        },
        "id": "sHqhTUr2Zh_R",
        "outputId": "c2246543-289a-458f-f240-688afbd9c883"
      },
      "execution_count": 25,
      "outputs": [
        {
          "output_type": "execute_result",
          "data": {
            "text/plain": [
              "SK_ID_CURR                         0\n",
              "TARGET                             0\n",
              "NAME_CONTRACT_TYPE                 1\n",
              "CODE_GENDER                        1\n",
              "FLAG_OWN_CAR                       1\n",
              "FLAG_OWN_REALTY                    1\n",
              "CNT_CHILDREN                       1\n",
              "AMT_INCOME_TOTAL                   1\n",
              "AMT_CREDIT                         1\n",
              "AMT_ANNUITY                        6\n",
              "AMT_GOODS_PRICE                   64\n",
              "NAME_TYPE_SUITE                  304\n",
              "NAME_INCOME_TYPE                   1\n",
              "NAME_EDUCATION_TYPE                1\n",
              "NAME_FAMILY_STATUS                 1\n",
              "NAME_HOUSING_TYPE                  1\n",
              "REGION_POPULATION_RELATIVE         1\n",
              "DAYS_BIRTH                         1\n",
              "DAYS_EMPLOYED                      1\n",
              "DAYS_REGISTRATION                  1\n",
              "DAYS_ID_PUBLISH                    1\n",
              "FLAG_MOBIL                         1\n",
              "FLAG_EMP_PHONE                     1\n",
              "FLAG_WORK_PHONE                    1\n",
              "FLAG_CONT_MOBILE                   1\n",
              "FLAG_PHONE                         1\n",
              "FLAG_EMAIL                         1\n",
              "CNT_FAM_MEMBERS                    2\n",
              "REGION_RATING_CLIENT               1\n",
              "REGION_RATING_CLIENT_W_CITY        1\n",
              "WEEKDAY_APPR_PROCESS_START         1\n",
              "HOUR_APPR_PROCESS_START            1\n",
              "REG_REGION_NOT_LIVE_REGION         1\n",
              "REG_REGION_NOT_WORK_REGION         1\n",
              "LIVE_REGION_NOT_WORK_REGION        1\n",
              "REG_CITY_NOT_LIVE_CITY             1\n",
              "REG_CITY_NOT_WORK_CITY             1\n",
              "LIVE_CITY_NOT_WORK_CITY            1\n",
              "ORGANIZATION_TYPE                  1\n",
              "EXT_SOURCE_2                     174\n",
              "EXT_SOURCE_3                   14935\n",
              "OBS_30_CNT_SOCIAL_CIRCLE         248\n",
              "DEF_30_CNT_SOCIAL_CIRCLE         248\n",
              "OBS_60_CNT_SOCIAL_CIRCLE         248\n",
              "DEF_60_CNT_SOCIAL_CIRCLE         248\n",
              "DAYS_LAST_PHONE_CHANGE             2\n",
              "FLAG_DOCUMENT_2                    1\n",
              "FLAG_DOCUMENT_3                    1\n",
              "FLAG_DOCUMENT_4                    1\n",
              "FLAG_DOCUMENT_5                    1\n",
              "FLAG_DOCUMENT_6                    1\n",
              "FLAG_DOCUMENT_7                    1\n",
              "FLAG_DOCUMENT_8                    1\n",
              "FLAG_DOCUMENT_9                    1\n",
              "FLAG_DOCUMENT_10                   1\n",
              "FLAG_DOCUMENT_11                   1\n",
              "FLAG_DOCUMENT_12                   1\n",
              "FLAG_DOCUMENT_13                   1\n",
              "FLAG_DOCUMENT_14                   1\n",
              "FLAG_DOCUMENT_15                   1\n",
              "FLAG_DOCUMENT_16                   1\n",
              "FLAG_DOCUMENT_17                   1\n",
              "FLAG_DOCUMENT_18                   1\n",
              "FLAG_DOCUMENT_19                   1\n",
              "FLAG_DOCUMENT_20                   1\n",
              "FLAG_DOCUMENT_21                   1\n",
              "AMT_REQ_CREDIT_BUREAU_HOUR     10114\n",
              "AMT_REQ_CREDIT_BUREAU_DAY      10114\n",
              "AMT_REQ_CREDIT_BUREAU_WEEK     10114\n",
              "AMT_REQ_CREDIT_BUREAU_MON      10114\n",
              "AMT_REQ_CREDIT_BUREAU_QRT      10114\n",
              "AMT_REQ_CREDIT_BUREAU_YEAR     10114\n",
              "dtype: int64"
            ]
          },
          "metadata": {},
          "execution_count": 25
        }
      ]
    },
    {
      "cell_type": "markdown",
      "source": [
        "Imputing missing in 'Name type suite' column\n"
      ],
      "metadata": {
        "id": "IrZX8vLQZro-"
      }
    },
    {
      "cell_type": "code",
      "source": [
        "app_df['NAME_TYPE_SUITE'].value_counts()"
      ],
      "metadata": {
        "colab": {
          "base_uri": "https://localhost:8080/"
        },
        "id": "JSy0w6RpZrGE",
        "outputId": "f8dcb3d5-16b5-4c5b-d769-3e95caec0161"
      },
      "execution_count": 26,
      "outputs": [
        {
          "output_type": "execute_result",
          "data": {
            "text/plain": [
              "Unaccompanied      61206\n",
              "Family              9886\n",
              "Spouse, partner     2775\n",
              "Children             829\n",
              "Other_B              433\n",
              "Other_A              210\n",
              "Group of people       57\n",
              "Name: NAME_TYPE_SUITE, dtype: int64"
            ]
          },
          "metadata": {},
          "execution_count": 26
        }
      ]
    },
    {
      "cell_type": "markdown",
      "source": [
        "Replace the values of null by the most common value i.e by mode as it is categorical"
      ],
      "metadata": {
        "id": "ljba177PaE2j"
      }
    },
    {
      "cell_type": "code",
      "source": [
        "app_df['NAME_TYPE_SUITE'].mode()"
      ],
      "metadata": {
        "colab": {
          "base_uri": "https://localhost:8080/"
        },
        "id": "CV0MTWrhaESF",
        "outputId": "03b666be-7829-4cea-8887-209400e67dac"
      },
      "execution_count": 27,
      "outputs": [
        {
          "output_type": "execute_result",
          "data": {
            "text/plain": [
              "0    Unaccompanied\n",
              "Name: NAME_TYPE_SUITE, dtype: object"
            ]
          },
          "metadata": {},
          "execution_count": 27
        }
      ]
    },
    {
      "cell_type": "code",
      "source": [
        "app_df['NAME_TYPE_SUITE'].fillna(value = 'Unaccompanied', inplace = True)"
      ],
      "metadata": {
        "id": "84csnCtzaBeR"
      },
      "execution_count": 28,
      "outputs": []
    },
    {
      "cell_type": "markdown",
      "source": [
        "Check with number of values after filling NaN"
      ],
      "metadata": {
        "id": "cgkcxb_HbtsT"
      }
    },
    {
      "cell_type": "code",
      "source": [
        "app_df['NAME_TYPE_SUITE'].isnull().sum()"
      ],
      "metadata": {
        "colab": {
          "base_uri": "https://localhost:8080/"
        },
        "id": "yWyYt5qVb8ze",
        "outputId": "a7ef40bb-8f64-41d4-900c-139bcf450eb2"
      },
      "execution_count": 31,
      "outputs": [
        {
          "output_type": "execute_result",
          "data": {
            "text/plain": [
              "0"
            ]
          },
          "metadata": {},
          "execution_count": 31
        }
      ]
    },
    {
      "cell_type": "code",
      "source": [
        "app_df['NAME_TYPE_SUITE'].value_counts()"
      ],
      "metadata": {
        "colab": {
          "base_uri": "https://localhost:8080/"
        },
        "id": "ZPqnFqpHbsuk",
        "outputId": "bc3a99f1-a39e-4370-929d-01f5abfc8169"
      },
      "execution_count": 32,
      "outputs": [
        {
          "output_type": "execute_result",
          "data": {
            "text/plain": [
              "Unaccompanied      61510\n",
              "Family              9886\n",
              "Spouse, partner     2775\n",
              "Children             829\n",
              "Other_B              433\n",
              "Other_A              210\n",
              "Group of people       57\n",
              "Name: NAME_TYPE_SUITE, dtype: int64"
            ]
          },
          "metadata": {},
          "execution_count": 32
        }
      ]
    }
  ]
}